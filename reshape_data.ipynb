{
 "cells": [
  {
   "cell_type": "code",
   "execution_count": 1,
   "metadata": {},
   "outputs": [],
   "source": [
    "import pymongo\n",
    "from pymongo import MongoClient\n",
    "\n",
    "import numpy as np\n",
    "import pandas as pd\n",
    "import pickle\n",
    "from pprint import pprint\n",
    "from IPython.display import clear_output"
   ]
  },
  {
   "cell_type": "code",
   "execution_count": 2,
   "metadata": {},
   "outputs": [
    {
     "data": {
      "text/html": [
       "<style>.container { width:90% !important; }</style>"
      ],
      "text/plain": [
       "<IPython.core.display.HTML object>"
      ]
     },
     "metadata": {},
     "output_type": "display_data"
    }
   ],
   "source": [
    "from IPython.core.display import display, HTML\n",
    "display(HTML(\"<style>.container { width:90% !important; }</style>\"))"
   ]
  },
  {
   "cell_type": "code",
   "execution_count": 3,
   "metadata": {},
   "outputs": [],
   "source": [
    "client = pymongo.MongoClient(\"mongodb://localhost:27017/\")\n",
    "db = client[\"github_projects\"]"
   ]
  },
  {
   "cell_type": "code",
   "execution_count": 4,
   "metadata": {},
   "outputs": [
    {
     "name": "stdout",
     "output_type": "stream",
     "text": [
      "2019-03-22T12:14:13.687-0700\tthe --db and --collection args should only be used when restoring from a BSON file. Other uses are deprecated and will not exist in the future; use --nsInclude instead\r\n",
      "2019-03-22T12:14:13.687-0700\tbuilding a list of collections to restore from github_usernames_dump dir\r\n",
      "2019-03-22T12:14:13.688-0700\tdon't know what to do with file \"github_usernames_dump/.DS_Store\", skipping...\r\n",
      "2019-03-22T12:14:13.688-0700\tdon't know what to do with subdirectory \"github_usernames_dump/github_usernames\", skipping...\r\n",
      "2019-03-22T12:14:13.688-0700\tdone\r\n"
     ]
    },
    {
     "data": {
      "text/plain": [
       "['users']"
      ]
     },
     "execution_count": 4,
     "metadata": {},
     "output_type": "execute_result"
    }
   ],
   "source": [
    "!mongorestore -d github_usernames github_usernames_dump  #  clean_ready_users\n",
    "\n",
    "db.list_collection_names()"
   ]
  },
  {
   "cell_type": "code",
   "execution_count": 5,
   "metadata": {},
   "outputs": [],
   "source": [
    "collection = db.get_collection('users')\n",
    "cursor = db.users.find({ \"following\":{\"$exists\":True }, \"followers\":{\"$exists\" : True}}) # get users who have both following list and followers"
   ]
  },
  {
   "cell_type": "code",
   "execution_count": 6,
   "metadata": {},
   "outputs": [
    {
     "name": "stderr",
     "output_type": "stream",
     "text": [
      "/usr/local/lib/python3.6/site-packages/ipykernel_launcher.py:1: DeprecationWarning: count is deprecated. Use Collection.count_documents instead.\n",
      "  \"\"\"Entry point for launching an IPython kernel.\n"
     ]
    }
   ],
   "source": [
    "count = cursor.count()"
   ]
  },
  {
   "cell_type": "code",
   "execution_count": 7,
   "metadata": {},
   "outputs": [
    {
     "name": "stdout",
     "output_type": "stream",
     "text": [
      "50295\n"
     ]
    }
   ],
   "source": [
    "print(count)"
   ]
  },
  {
   "cell_type": "code",
   "execution_count": 8,
   "metadata": {},
   "outputs": [],
   "source": [
    "# #cursor = collection.find({})\n",
    "# for document in cursor: \n",
    "#     print(document['username']) #document['following'])# ("
   ]
  },
  {
   "cell_type": "code",
   "execution_count": 9,
   "metadata": {},
   "outputs": [
    {
     "name": "stdout",
     "output_type": "stream",
     "text": [
      "2019-03-22T12:14:15.893-0700\twriting github_usernames.users to \n",
      "2019-03-22T12:14:15.965-0700\tdone dumping github_usernames.users (11809 documents)\n"
     ]
    }
   ],
   "source": [
    "!mongodump -d github_usernames -o clean_ready_users"
   ]
  },
  {
   "cell_type": "code",
   "execution_count": 10,
   "metadata": {},
   "outputs": [],
   "source": [
    "df1 = pd.DataFrame(list(cursor))"
   ]
  },
  {
   "cell_type": "code",
   "execution_count": 11,
   "metadata": {},
   "outputs": [],
   "source": [
    "#pprint(df1.head())"
   ]
  },
  {
   "cell_type": "code",
   "execution_count": 12,
   "metadata": {},
   "outputs": [],
   "source": [
    "df2 = df1[['username','following']].copy()\n",
    "df2['rating'] = 1"
   ]
  },
  {
   "cell_type": "code",
   "execution_count": 13,
   "metadata": {
    "scrolled": true
   },
   "outputs": [
    {
     "data": {
      "text/html": [
       "<div>\n",
       "<style scoped>\n",
       "    .dataframe tbody tr th:only-of-type {\n",
       "        vertical-align: middle;\n",
       "    }\n",
       "\n",
       "    .dataframe tbody tr th {\n",
       "        vertical-align: top;\n",
       "    }\n",
       "\n",
       "    .dataframe thead th {\n",
       "        text-align: right;\n",
       "    }\n",
       "</style>\n",
       "<table border=\"1\" class=\"dataframe\">\n",
       "  <thead>\n",
       "    <tr style=\"text-align: right;\">\n",
       "      <th></th>\n",
       "      <th>username</th>\n",
       "      <th>following</th>\n",
       "      <th>rating</th>\n",
       "    </tr>\n",
       "  </thead>\n",
       "  <tbody>\n",
       "    <tr>\n",
       "      <th>0</th>\n",
       "      <td>donnemartin</td>\n",
       "      <td>[mitsuhiko, kenneth-reitz, wesm, jakevdp]</td>\n",
       "      <td>1</td>\n",
       "    </tr>\n",
       "    <tr>\n",
       "      <th>1</th>\n",
       "      <td>kennethreitz</td>\n",
       "      <td>[]</td>\n",
       "      <td>1</td>\n",
       "    </tr>\n",
       "    <tr>\n",
       "      <th>2</th>\n",
       "      <td>google</td>\n",
       "      <td>[]</td>\n",
       "      <td>1</td>\n",
       "    </tr>\n",
       "    <tr>\n",
       "      <th>3</th>\n",
       "      <td>tensorflow</td>\n",
       "      <td>[]</td>\n",
       "      <td>1</td>\n",
       "    </tr>\n",
       "    <tr>\n",
       "      <th>4</th>\n",
       "      <td>pallets</td>\n",
       "      <td>[]</td>\n",
       "      <td>1</td>\n",
       "    </tr>\n",
       "    <tr>\n",
       "      <th>5</th>\n",
       "      <td>django</td>\n",
       "      <td>[]</td>\n",
       "      <td>1</td>\n",
       "    </tr>\n",
       "    <tr>\n",
       "      <th>6</th>\n",
       "      <td>mitsuhiko</td>\n",
       "      <td>[brosner, alex, ericflo, bryanveloso, jezdez, ...</td>\n",
       "      <td>1</td>\n",
       "    </tr>\n",
       "    <tr>\n",
       "      <th>7</th>\n",
       "      <td>jakubroztocil</td>\n",
       "      <td>[mojombo, defunkt, roncohen, alex, jashkenas, ...</td>\n",
       "      <td>1</td>\n",
       "    </tr>\n",
       "    <tr>\n",
       "      <th>8</th>\n",
       "      <td>ansible</td>\n",
       "      <td>[]</td>\n",
       "      <td>1</td>\n",
       "    </tr>\n",
       "    <tr>\n",
       "      <th>9</th>\n",
       "      <td>nvbn</td>\n",
       "      <td>[vgarvardt, hdhog, dtantsur, zcho, chemikadze,...</td>\n",
       "      <td>1</td>\n",
       "    </tr>\n",
       "    <tr>\n",
       "      <th>10</th>\n",
       "      <td>openai</td>\n",
       "      <td>[]</td>\n",
       "      <td>1</td>\n",
       "    </tr>\n",
       "    <tr>\n",
       "      <th>11</th>\n",
       "      <td>rg3</td>\n",
       "      <td>[]</td>\n",
       "      <td>1</td>\n",
       "    </tr>\n",
       "    <tr>\n",
       "      <th>12</th>\n",
       "      <td>toddmotto</td>\n",
       "      <td>[]</td>\n",
       "      <td>1</td>\n",
       "    </tr>\n",
       "    <tr>\n",
       "      <th>13</th>\n",
       "      <td>openstack</td>\n",
       "      <td>[]</td>\n",
       "      <td>1</td>\n",
       "    </tr>\n",
       "    <tr>\n",
       "      <th>14</th>\n",
       "      <td>requests</td>\n",
       "      <td>[]</td>\n",
       "      <td>1</td>\n",
       "    </tr>\n",
       "    <tr>\n",
       "      <th>15</th>\n",
       "      <td>josephmisiti</td>\n",
       "      <td>[mojombo, defunkt, vanpelt, macournoyer, ry, b...</td>\n",
       "      <td>1</td>\n",
       "    </tr>\n",
       "    <tr>\n",
       "      <th>16</th>\n",
       "      <td>facebookresearch</td>\n",
       "      <td>[]</td>\n",
       "      <td>1</td>\n",
       "    </tr>\n",
       "    <tr>\n",
       "      <th>17</th>\n",
       "      <td>scrapy</td>\n",
       "      <td>[]</td>\n",
       "      <td>1</td>\n",
       "    </tr>\n",
       "    <tr>\n",
       "      <th>18</th>\n",
       "      <td>airbnb</td>\n",
       "      <td>[]</td>\n",
       "      <td>1</td>\n",
       "    </tr>\n",
       "    <tr>\n",
       "      <th>19</th>\n",
       "      <td>jkbrzt</td>\n",
       "      <td>[jakubroztocil]</td>\n",
       "      <td>1</td>\n",
       "    </tr>\n",
       "  </tbody>\n",
       "</table>\n",
       "</div>"
      ],
      "text/plain": [
       "            username                                          following  \\\n",
       "0        donnemartin          [mitsuhiko, kenneth-reitz, wesm, jakevdp]   \n",
       "1       kennethreitz                                                 []   \n",
       "2             google                                                 []   \n",
       "3         tensorflow                                                 []   \n",
       "4            pallets                                                 []   \n",
       "5             django                                                 []   \n",
       "6          mitsuhiko  [brosner, alex, ericflo, bryanveloso, jezdez, ...   \n",
       "7      jakubroztocil  [mojombo, defunkt, roncohen, alex, jashkenas, ...   \n",
       "8            ansible                                                 []   \n",
       "9               nvbn  [vgarvardt, hdhog, dtantsur, zcho, chemikadze,...   \n",
       "10            openai                                                 []   \n",
       "11               rg3                                                 []   \n",
       "12         toddmotto                                                 []   \n",
       "13         openstack                                                 []   \n",
       "14          requests                                                 []   \n",
       "15      josephmisiti  [mojombo, defunkt, vanpelt, macournoyer, ry, b...   \n",
       "16  facebookresearch                                                 []   \n",
       "17            scrapy                                                 []   \n",
       "18            airbnb                                                 []   \n",
       "19            jkbrzt                                    [jakubroztocil]   \n",
       "\n",
       "    rating  \n",
       "0        1  \n",
       "1        1  \n",
       "2        1  \n",
       "3        1  \n",
       "4        1  \n",
       "5        1  \n",
       "6        1  \n",
       "7        1  \n",
       "8        1  \n",
       "9        1  \n",
       "10       1  \n",
       "11       1  \n",
       "12       1  \n",
       "13       1  \n",
       "14       1  \n",
       "15       1  \n",
       "16       1  \n",
       "17       1  \n",
       "18       1  \n",
       "19       1  "
      ]
     },
     "execution_count": 13,
     "metadata": {},
     "output_type": "execute_result"
    }
   ],
   "source": [
    "df2.head(20)"
   ]
  },
  {
   "cell_type": "code",
   "execution_count": 14,
   "metadata": {},
   "outputs": [
    {
     "data": {
      "text/html": [
       "<div>\n",
       "<style scoped>\n",
       "    .dataframe tbody tr th:only-of-type {\n",
       "        vertical-align: middle;\n",
       "    }\n",
       "\n",
       "    .dataframe tbody tr th {\n",
       "        vertical-align: top;\n",
       "    }\n",
       "\n",
       "    .dataframe thead th {\n",
       "        text-align: right;\n",
       "    }\n",
       "</style>\n",
       "<table border=\"1\" class=\"dataframe\">\n",
       "  <thead>\n",
       "    <tr style=\"text-align: right;\">\n",
       "      <th></th>\n",
       "      <th>level_1</th>\n",
       "      <th>0</th>\n",
       "    </tr>\n",
       "    <tr>\n",
       "      <th>username</th>\n",
       "      <th></th>\n",
       "      <th></th>\n",
       "    </tr>\n",
       "  </thead>\n",
       "  <tbody>\n",
       "    <tr>\n",
       "      <th>donnemartin</th>\n",
       "      <td>0</td>\n",
       "      <td>mitsuhiko</td>\n",
       "    </tr>\n",
       "    <tr>\n",
       "      <th>donnemartin</th>\n",
       "      <td>1</td>\n",
       "      <td>kenneth-reitz</td>\n",
       "    </tr>\n",
       "    <tr>\n",
       "      <th>donnemartin</th>\n",
       "      <td>2</td>\n",
       "      <td>wesm</td>\n",
       "    </tr>\n",
       "    <tr>\n",
       "      <th>donnemartin</th>\n",
       "      <td>3</td>\n",
       "      <td>jakevdp</td>\n",
       "    </tr>\n",
       "    <tr>\n",
       "      <th>mitsuhiko</th>\n",
       "      <td>0</td>\n",
       "      <td>brosner</td>\n",
       "    </tr>\n",
       "  </tbody>\n",
       "</table>\n",
       "</div>"
      ],
      "text/plain": [
       "             level_1              0\n",
       "username                           \n",
       "donnemartin        0      mitsuhiko\n",
       "donnemartin        1  kenneth-reitz\n",
       "donnemartin        2           wesm\n",
       "donnemartin        3        jakevdp\n",
       "mitsuhiko          0        brosner"
      ]
     },
     "execution_count": 14,
     "metadata": {},
     "output_type": "execute_result"
    }
   ],
   "source": [
    "df3 = pd.DataFrame(df2.following.tolist(), index=df2.username).stack().reset_index(level=1, drop=False) # stacking by username with followers\n",
    "df3.head()"
   ]
  },
  {
   "cell_type": "code",
   "execution_count": 15,
   "metadata": {},
   "outputs": [],
   "source": [
    "df3.rename({0:\"following\"},axis=1, inplace=True)"
   ]
  },
  {
   "cell_type": "code",
   "execution_count": 16,
   "metadata": {},
   "outputs": [],
   "source": [
    "df3.rename({\"level_1\":\"rating\"},axis=1, inplace=True)"
   ]
  },
  {
   "cell_type": "code",
   "execution_count": 17,
   "metadata": {},
   "outputs": [
    {
     "data": {
      "text/html": [
       "<div>\n",
       "<style scoped>\n",
       "    .dataframe tbody tr th:only-of-type {\n",
       "        vertical-align: middle;\n",
       "    }\n",
       "\n",
       "    .dataframe tbody tr th {\n",
       "        vertical-align: top;\n",
       "    }\n",
       "\n",
       "    .dataframe thead th {\n",
       "        text-align: right;\n",
       "    }\n",
       "</style>\n",
       "<table border=\"1\" class=\"dataframe\">\n",
       "  <thead>\n",
       "    <tr style=\"text-align: right;\">\n",
       "      <th></th>\n",
       "      <th>rating</th>\n",
       "      <th>following</th>\n",
       "    </tr>\n",
       "    <tr>\n",
       "      <th>username</th>\n",
       "      <th></th>\n",
       "      <th></th>\n",
       "    </tr>\n",
       "  </thead>\n",
       "  <tbody>\n",
       "    <tr>\n",
       "      <th>donnemartin</th>\n",
       "      <td>1</td>\n",
       "      <td>mitsuhiko</td>\n",
       "    </tr>\n",
       "    <tr>\n",
       "      <th>donnemartin</th>\n",
       "      <td>1</td>\n",
       "      <td>kenneth-reitz</td>\n",
       "    </tr>\n",
       "    <tr>\n",
       "      <th>donnemartin</th>\n",
       "      <td>1</td>\n",
       "      <td>wesm</td>\n",
       "    </tr>\n",
       "    <tr>\n",
       "      <th>donnemartin</th>\n",
       "      <td>1</td>\n",
       "      <td>jakevdp</td>\n",
       "    </tr>\n",
       "    <tr>\n",
       "      <th>mitsuhiko</th>\n",
       "      <td>1</td>\n",
       "      <td>brosner</td>\n",
       "    </tr>\n",
       "  </tbody>\n",
       "</table>\n",
       "</div>"
      ],
      "text/plain": [
       "             rating      following\n",
       "username                          \n",
       "donnemartin       1      mitsuhiko\n",
       "donnemartin       1  kenneth-reitz\n",
       "donnemartin       1           wesm\n",
       "donnemartin       1        jakevdp\n",
       "mitsuhiko         1        brosner"
      ]
     },
     "execution_count": 17,
     "metadata": {},
     "output_type": "execute_result"
    }
   ],
   "source": [
    "df3['rating']=1\n",
    "df3.head()"
   ]
  },
  {
   "cell_type": "code",
   "execution_count": 18,
   "metadata": {},
   "outputs": [],
   "source": [
    "df4 = df3.reset_index(level=0, drop=False)"
   ]
  },
  {
   "cell_type": "code",
   "execution_count": 19,
   "metadata": {},
   "outputs": [
    {
     "data": {
      "text/html": [
       "<div>\n",
       "<style scoped>\n",
       "    .dataframe tbody tr th:only-of-type {\n",
       "        vertical-align: middle;\n",
       "    }\n",
       "\n",
       "    .dataframe tbody tr th {\n",
       "        vertical-align: top;\n",
       "    }\n",
       "\n",
       "    .dataframe thead th {\n",
       "        text-align: right;\n",
       "    }\n",
       "</style>\n",
       "<table border=\"1\" class=\"dataframe\">\n",
       "  <thead>\n",
       "    <tr style=\"text-align: right;\">\n",
       "      <th></th>\n",
       "      <th>username</th>\n",
       "      <th>rating</th>\n",
       "      <th>following</th>\n",
       "    </tr>\n",
       "  </thead>\n",
       "  <tbody>\n",
       "    <tr>\n",
       "      <th>0</th>\n",
       "      <td>donnemartin</td>\n",
       "      <td>1</td>\n",
       "      <td>mitsuhiko</td>\n",
       "    </tr>\n",
       "    <tr>\n",
       "      <th>1</th>\n",
       "      <td>donnemartin</td>\n",
       "      <td>1</td>\n",
       "      <td>kenneth-reitz</td>\n",
       "    </tr>\n",
       "    <tr>\n",
       "      <th>2</th>\n",
       "      <td>donnemartin</td>\n",
       "      <td>1</td>\n",
       "      <td>wesm</td>\n",
       "    </tr>\n",
       "    <tr>\n",
       "      <th>3</th>\n",
       "      <td>donnemartin</td>\n",
       "      <td>1</td>\n",
       "      <td>jakevdp</td>\n",
       "    </tr>\n",
       "    <tr>\n",
       "      <th>4</th>\n",
       "      <td>mitsuhiko</td>\n",
       "      <td>1</td>\n",
       "      <td>brosner</td>\n",
       "    </tr>\n",
       "  </tbody>\n",
       "</table>\n",
       "</div>"
      ],
      "text/plain": [
       "      username  rating      following\n",
       "0  donnemartin       1      mitsuhiko\n",
       "1  donnemartin       1  kenneth-reitz\n",
       "2  donnemartin       1           wesm\n",
       "3  donnemartin       1        jakevdp\n",
       "4    mitsuhiko       1        brosner"
      ]
     },
     "execution_count": 19,
     "metadata": {},
     "output_type": "execute_result"
    }
   ],
   "source": [
    "df4.head()"
   ]
  },
  {
   "cell_type": "code",
   "execution_count": 20,
   "metadata": {},
   "outputs": [],
   "source": [
    "with open(\"data/df4.pickle\", 'wb') as fp:\n",
    "    pickle.dump(df4, fp)"
   ]
  },
  {
   "cell_type": "markdown",
   "metadata": {},
   "source": [
    "# shape to % of data, (move to aws machine to) run surprise"
   ]
  },
  {
   "cell_type": "code",
   "execution_count": 21,
   "metadata": {},
   "outputs": [
    {
     "data": {
      "text/html": [
       "<div>\n",
       "<style scoped>\n",
       "    .dataframe tbody tr th:only-of-type {\n",
       "        vertical-align: middle;\n",
       "    }\n",
       "\n",
       "    .dataframe tbody tr th {\n",
       "        vertical-align: top;\n",
       "    }\n",
       "\n",
       "    .dataframe thead th {\n",
       "        text-align: right;\n",
       "    }\n",
       "</style>\n",
       "<table border=\"1\" class=\"dataframe\">\n",
       "  <thead>\n",
       "    <tr style=\"text-align: right;\">\n",
       "      <th></th>\n",
       "      <th>username</th>\n",
       "      <th>following</th>\n",
       "      <th>rating</th>\n",
       "    </tr>\n",
       "  </thead>\n",
       "  <tbody>\n",
       "    <tr>\n",
       "      <th>0</th>\n",
       "      <td>donnemartin</td>\n",
       "      <td>[mitsuhiko, kenneth-reitz, wesm, jakevdp]</td>\n",
       "      <td>1</td>\n",
       "    </tr>\n",
       "    <tr>\n",
       "      <th>6</th>\n",
       "      <td>mitsuhiko</td>\n",
       "      <td>[brosner, alex, ericflo, bryanveloso, jezdez, ...</td>\n",
       "      <td>1</td>\n",
       "    </tr>\n",
       "    <tr>\n",
       "      <th>7</th>\n",
       "      <td>jakubroztocil</td>\n",
       "      <td>[mojombo, defunkt, roncohen, alex, jashkenas, ...</td>\n",
       "      <td>1</td>\n",
       "    </tr>\n",
       "    <tr>\n",
       "      <th>9</th>\n",
       "      <td>nvbn</td>\n",
       "      <td>[vgarvardt, hdhog, dtantsur, zcho, chemikadze,...</td>\n",
       "      <td>1</td>\n",
       "    </tr>\n",
       "    <tr>\n",
       "      <th>15</th>\n",
       "      <td>josephmisiti</td>\n",
       "      <td>[mojombo, defunkt, vanpelt, macournoyer, ry, b...</td>\n",
       "      <td>1</td>\n",
       "    </tr>\n",
       "    <tr>\n",
       "      <th>19</th>\n",
       "      <td>jkbrzt</td>\n",
       "      <td>[jakubroztocil]</td>\n",
       "      <td>1</td>\n",
       "    </tr>\n",
       "    <tr>\n",
       "      <th>21</th>\n",
       "      <td>minimaxir</td>\n",
       "      <td>[Stitchpunk]</td>\n",
       "      <td>1</td>\n",
       "    </tr>\n",
       "    <tr>\n",
       "      <th>35</th>\n",
       "      <td>eriklindernoren</td>\n",
       "      <td>[karpathy, alexjc, fchollet, llSourcell, junya...</td>\n",
       "      <td>1</td>\n",
       "    </tr>\n",
       "    <tr>\n",
       "      <th>36</th>\n",
       "      <td>wangshub</td>\n",
       "      <td>[kenneth-reitz, paulyang1990, dongweiming, lil...</td>\n",
       "      <td>1</td>\n",
       "    </tr>\n",
       "    <tr>\n",
       "      <th>39</th>\n",
       "      <td>soimort</td>\n",
       "      <td>[josh, maccman, jgm, aaronsw, sethladd, philc,...</td>\n",
       "      <td>1</td>\n",
       "    </tr>\n",
       "    <tr>\n",
       "      <th>41</th>\n",
       "      <td>drduh</td>\n",
       "      <td>[jcs, snare, marmarek, gdbinit, osresearch]</td>\n",
       "      <td>1</td>\n",
       "    </tr>\n",
       "    <tr>\n",
       "      <th>44</th>\n",
       "      <td>floodsung</td>\n",
       "      <td>[geohot, karpathy, goodfeli, dennybritz, wOOL,...</td>\n",
       "      <td>1</td>\n",
       "    </tr>\n",
       "    <tr>\n",
       "      <th>45</th>\n",
       "      <td>0xax</td>\n",
       "      <td>[proger, 5HT, hwinkel, liveforeverx, surik, vo...</td>\n",
       "      <td>1</td>\n",
       "    </tr>\n",
       "    <tr>\n",
       "      <th>49</th>\n",
       "      <td>alexjc</td>\n",
       "      <td>[schaul, paniq, andersbll, speedingdeer, gpako...</td>\n",
       "      <td>1</td>\n",
       "    </tr>\n",
       "    <tr>\n",
       "      <th>50</th>\n",
       "      <td>vinta</td>\n",
       "      <td>[mojombo, defunkt, josh, alex, ask, maccman, t...</td>\n",
       "      <td>1</td>\n",
       "    </tr>\n",
       "    <tr>\n",
       "      <th>52</th>\n",
       "      <td>keon</td>\n",
       "      <td>[ynd, jashkenas, senorprogrammer, mitsuhiko, y...</td>\n",
       "      <td>1</td>\n",
       "    </tr>\n",
       "    <tr>\n",
       "      <th>62</th>\n",
       "      <td>satwikkansal</td>\n",
       "      <td>[llSourcell, charliegerard, adtac]</td>\n",
       "      <td>1</td>\n",
       "    </tr>\n",
       "    <tr>\n",
       "      <th>65</th>\n",
       "      <td>astorfi</td>\n",
       "      <td>[jezdez, pydanny, kenneth-reitz, mahmoud, matt...</td>\n",
       "      <td>1</td>\n",
       "    </tr>\n",
       "    <tr>\n",
       "      <th>68</th>\n",
       "      <td>fxsjy</td>\n",
       "      <td>[mountain, aaronsw, livid, killme2008, huichen...</td>\n",
       "      <td>1</td>\n",
       "    </tr>\n",
       "    <tr>\n",
       "      <th>71</th>\n",
       "      <td>ageitgey</td>\n",
       "      <td>[jkrems, khoomeister]</td>\n",
       "      <td>1</td>\n",
       "    </tr>\n",
       "  </tbody>\n",
       "</table>\n",
       "</div>"
      ],
      "text/plain": [
       "           username                                          following  rating\n",
       "0       donnemartin          [mitsuhiko, kenneth-reitz, wesm, jakevdp]       1\n",
       "6         mitsuhiko  [brosner, alex, ericflo, bryanveloso, jezdez, ...       1\n",
       "7     jakubroztocil  [mojombo, defunkt, roncohen, alex, jashkenas, ...       1\n",
       "9              nvbn  [vgarvardt, hdhog, dtantsur, zcho, chemikadze,...       1\n",
       "15     josephmisiti  [mojombo, defunkt, vanpelt, macournoyer, ry, b...       1\n",
       "19           jkbrzt                                    [jakubroztocil]       1\n",
       "21        minimaxir                                       [Stitchpunk]       1\n",
       "35  eriklindernoren  [karpathy, alexjc, fchollet, llSourcell, junya...       1\n",
       "36         wangshub  [kenneth-reitz, paulyang1990, dongweiming, lil...       1\n",
       "39          soimort  [josh, maccman, jgm, aaronsw, sethladd, philc,...       1\n",
       "41            drduh        [jcs, snare, marmarek, gdbinit, osresearch]       1\n",
       "44        floodsung  [geohot, karpathy, goodfeli, dennybritz, wOOL,...       1\n",
       "45             0xax  [proger, 5HT, hwinkel, liveforeverx, surik, vo...       1\n",
       "49           alexjc  [schaul, paniq, andersbll, speedingdeer, gpako...       1\n",
       "50            vinta  [mojombo, defunkt, josh, alex, ask, maccman, t...       1\n",
       "52             keon  [ynd, jashkenas, senorprogrammer, mitsuhiko, y...       1\n",
       "62     satwikkansal                 [llSourcell, charliegerard, adtac]       1\n",
       "65          astorfi  [jezdez, pydanny, kenneth-reitz, mahmoud, matt...       1\n",
       "68            fxsjy  [mountain, aaronsw, livid, killme2008, huichen...       1\n",
       "71         ageitgey                              [jkrems, khoomeister]       1"
      ]
     },
     "execution_count": 21,
     "metadata": {},
     "output_type": "execute_result"
    }
   ],
   "source": [
    "new_df = df2\n",
    "# new_df = new_df.replace(to_replace='', value=np.nan).dropna() # works when space delimeted string in followers col\n",
    "new_df = new_df[new_df.astype(str)['following'] != '[]'] # works on strings in list\n",
    "new_df.head(20)\n",
    "#new_df.shape"
   ]
  },
  {
   "cell_type": "code",
   "execution_count": 22,
   "metadata": {},
   "outputs": [
    {
     "name": "stderr",
     "output_type": "stream",
     "text": [
      "/usr/local/lib/python3.6/site-packages/ipykernel_launcher.py:2: SettingWithCopyWarning: \n",
      "A value is trying to be set on a copy of a slice from a DataFrame.\n",
      "Try using .loc[row_indexer,col_indexer] = value instead\n",
      "\n",
      "See the caveats in the documentation: http://pandas.pydata.org/pandas-docs/stable/indexing.html#indexing-view-versus-copy\n",
      "  \n"
     ]
    }
   ],
   "source": [
    "# create col to sort by num following to get most relevant users\n",
    "new_df['follow_num'] = new_df['following'].str.len() #len(text.split(','))"
   ]
  },
  {
   "cell_type": "code",
   "execution_count": null,
   "metadata": {},
   "outputs": [],
   "source": [
    "new_df.head(20)"
   ]
  },
  {
   "cell_type": "code",
   "execution_count": 23,
   "metadata": {},
   "outputs": [
    {
     "data": {
      "text/html": [
       "<div>\n",
       "<style scoped>\n",
       "    .dataframe tbody tr th:only-of-type {\n",
       "        vertical-align: middle;\n",
       "    }\n",
       "\n",
       "    .dataframe tbody tr th {\n",
       "        vertical-align: top;\n",
       "    }\n",
       "\n",
       "    .dataframe thead th {\n",
       "        text-align: right;\n",
       "    }\n",
       "</style>\n",
       "<table border=\"1\" class=\"dataframe\">\n",
       "  <thead>\n",
       "    <tr style=\"text-align: right;\">\n",
       "      <th></th>\n",
       "      <th>username</th>\n",
       "      <th>following</th>\n",
       "      <th>rating</th>\n",
       "      <th>follow_num</th>\n",
       "    </tr>\n",
       "  </thead>\n",
       "  <tbody>\n",
       "    <tr>\n",
       "      <th>50294</th>\n",
       "      <td>nishowsan</td>\n",
       "      <td>[josh, benschwarz, andrew, tmm1, mitsuhiko, da...</td>\n",
       "      <td>1</td>\n",
       "      <td>30</td>\n",
       "    </tr>\n",
       "    <tr>\n",
       "      <th>43958</th>\n",
       "      <td>juanvelascogomez</td>\n",
       "      <td>[JJ, fdavidcl, psicobyte, GoldraK, oslugr, fer...</td>\n",
       "      <td>1</td>\n",
       "      <td>30</td>\n",
       "    </tr>\n",
       "    <tr>\n",
       "      <th>18334</th>\n",
       "      <td>callmephilip</td>\n",
       "      <td>[queso, holman, cho45, jashkenas, rauchg, remy...</td>\n",
       "      <td>1</td>\n",
       "      <td>30</td>\n",
       "    </tr>\n",
       "    <tr>\n",
       "      <th>18342</th>\n",
       "      <td>riywo</td>\n",
       "      <td>[mojombo, wycats, macournoyer, mattetti, al3x,...</td>\n",
       "      <td>1</td>\n",
       "      <td>30</td>\n",
       "    </tr>\n",
       "    <tr>\n",
       "      <th>18343</th>\n",
       "      <td>ryanj</td>\n",
       "      <td>[bryanl, jchris, ncdc, mikeal, quirkey, krober...</td>\n",
       "      <td>1</td>\n",
       "      <td>30</td>\n",
       "    </tr>\n",
       "    <tr>\n",
       "      <th>18353</th>\n",
       "      <td>shownx</td>\n",
       "      <td>[tilgovi, goodfeli, mli, piiswrong, marvis, pa...</td>\n",
       "      <td>1</td>\n",
       "      <td>30</td>\n",
       "    </tr>\n",
       "    <tr>\n",
       "      <th>18355</th>\n",
       "      <td>jackfirth</td>\n",
       "      <td>[technomancy, pmatos, zenspider, rntz, zkat, t...</td>\n",
       "      <td>1</td>\n",
       "      <td>30</td>\n",
       "    </tr>\n",
       "    <tr>\n",
       "      <th>43967</th>\n",
       "      <td>ana0</td>\n",
       "      <td>[pjf, wolever, huertanix, wanderer, garrying, ...</td>\n",
       "      <td>1</td>\n",
       "      <td>30</td>\n",
       "    </tr>\n",
       "    <tr>\n",
       "      <th>43960</th>\n",
       "      <td>soyn</td>\n",
       "      <td>[ry, jashkenas, substack, rauchg, pmq20, josha...</td>\n",
       "      <td>1</td>\n",
       "      <td>30</td>\n",
       "    </tr>\n",
       "    <tr>\n",
       "      <th>18361</th>\n",
       "      <td>pein0119</td>\n",
       "      <td>[jinzhu, cortesi, paulirish, agentzh, rspivak,...</td>\n",
       "      <td>1</td>\n",
       "      <td>30</td>\n",
       "    </tr>\n",
       "    <tr>\n",
       "      <th>18370</th>\n",
       "      <td>mcanet</td>\n",
       "      <td>[lian, arikan, ariya, frabcus, azer, dcabo, sp...</td>\n",
       "      <td>1</td>\n",
       "      <td>30</td>\n",
       "    </tr>\n",
       "    <tr>\n",
       "      <th>18328</th>\n",
       "      <td>tianchaijz</td>\n",
       "      <td>[fab13n, skeeto, fperrad, rui314, agentzh, rsp...</td>\n",
       "      <td>1</td>\n",
       "      <td>30</td>\n",
       "    </tr>\n",
       "    <tr>\n",
       "      <th>18371</th>\n",
       "      <td>cdzombak</td>\n",
       "      <td>[justin, harrisj, dwillis, holman, andymatusch...</td>\n",
       "      <td>1</td>\n",
       "      <td>30</td>\n",
       "    </tr>\n",
       "    <tr>\n",
       "      <th>18375</th>\n",
       "      <td>jcf</td>\n",
       "      <td>[mojombo, defunkt, pjhyett, wycats, technoween...</td>\n",
       "      <td>1</td>\n",
       "      <td>30</td>\n",
       "    </tr>\n",
       "    <tr>\n",
       "      <th>18383</th>\n",
       "      <td>stonycat</td>\n",
       "      <td>[pluskid, namwkim, jheer, karpathy, cvondrick,...</td>\n",
       "      <td>1</td>\n",
       "      <td>30</td>\n",
       "    </tr>\n",
       "    <tr>\n",
       "      <th>18389</th>\n",
       "      <td>carolinehermans</td>\n",
       "      <td>[qdot, golanlevin, fogleman, aroman, pixelyuni...</td>\n",
       "      <td>1</td>\n",
       "      <td>30</td>\n",
       "    </tr>\n",
       "    <tr>\n",
       "      <th>18390</th>\n",
       "      <td>dollarakshay</td>\n",
       "      <td>[ry, subblue, anandology, sindresorhus, karpat...</td>\n",
       "      <td>1</td>\n",
       "      <td>30</td>\n",
       "    </tr>\n",
       "    <tr>\n",
       "      <th>43941</th>\n",
       "      <td>ziangyan</td>\n",
       "      <td>[sergeyk, vedaldi, xlvector, carlos8f, ThiefMa...</td>\n",
       "      <td>1</td>\n",
       "      <td>30</td>\n",
       "    </tr>\n",
       "    <tr>\n",
       "      <th>43939</th>\n",
       "      <td>jamesmilneruk</td>\n",
       "      <td>[mikeal, mattn, substack, codepo8, threepointo...</td>\n",
       "      <td>1</td>\n",
       "      <td>30</td>\n",
       "    </tr>\n",
       "    <tr>\n",
       "      <th>18408</th>\n",
       "      <td>icylace</td>\n",
       "      <td>[vlucas, aemkei, jeresig, aziz, isaacs, substa...</td>\n",
       "      <td>1</td>\n",
       "      <td>30</td>\n",
       "    </tr>\n",
       "  </tbody>\n",
       "</table>\n",
       "</div>"
      ],
      "text/plain": [
       "               username                                          following  \\\n",
       "50294         nishowsan  [josh, benschwarz, andrew, tmm1, mitsuhiko, da...   \n",
       "43958  juanvelascogomez  [JJ, fdavidcl, psicobyte, GoldraK, oslugr, fer...   \n",
       "18334      callmephilip  [queso, holman, cho45, jashkenas, rauchg, remy...   \n",
       "18342             riywo  [mojombo, wycats, macournoyer, mattetti, al3x,...   \n",
       "18343             ryanj  [bryanl, jchris, ncdc, mikeal, quirkey, krober...   \n",
       "18353            shownx  [tilgovi, goodfeli, mli, piiswrong, marvis, pa...   \n",
       "18355         jackfirth  [technomancy, pmatos, zenspider, rntz, zkat, t...   \n",
       "43967              ana0  [pjf, wolever, huertanix, wanderer, garrying, ...   \n",
       "43960              soyn  [ry, jashkenas, substack, rauchg, pmq20, josha...   \n",
       "18361          pein0119  [jinzhu, cortesi, paulirish, agentzh, rspivak,...   \n",
       "18370            mcanet  [lian, arikan, ariya, frabcus, azer, dcabo, sp...   \n",
       "18328        tianchaijz  [fab13n, skeeto, fperrad, rui314, agentzh, rsp...   \n",
       "18371          cdzombak  [justin, harrisj, dwillis, holman, andymatusch...   \n",
       "18375               jcf  [mojombo, defunkt, pjhyett, wycats, technoween...   \n",
       "18383          stonycat  [pluskid, namwkim, jheer, karpathy, cvondrick,...   \n",
       "18389   carolinehermans  [qdot, golanlevin, fogleman, aroman, pixelyuni...   \n",
       "18390      dollarakshay  [ry, subblue, anandology, sindresorhus, karpat...   \n",
       "43941          ziangyan  [sergeyk, vedaldi, xlvector, carlos8f, ThiefMa...   \n",
       "43939     jamesmilneruk  [mikeal, mattn, substack, codepo8, threepointo...   \n",
       "18408           icylace  [vlucas, aemkei, jeresig, aziz, isaacs, substa...   \n",
       "\n",
       "       rating  follow_num  \n",
       "50294       1          30  \n",
       "43958       1          30  \n",
       "18334       1          30  \n",
       "18342       1          30  \n",
       "18343       1          30  \n",
       "18353       1          30  \n",
       "18355       1          30  \n",
       "43967       1          30  \n",
       "43960       1          30  \n",
       "18361       1          30  \n",
       "18370       1          30  \n",
       "18328       1          30  \n",
       "18371       1          30  \n",
       "18375       1          30  \n",
       "18383       1          30  \n",
       "18389       1          30  \n",
       "18390       1          30  \n",
       "43941       1          30  \n",
       "43939       1          30  \n",
       "18408       1          30  "
      ]
     },
     "execution_count": 23,
     "metadata": {},
     "output_type": "execute_result"
    }
   ],
   "source": [
    "new_df = new_df.sort_values('follow_num', ascending=False)\n",
    "new_df.head(20)"
   ]
  },
  {
   "cell_type": "code",
   "execution_count": 24,
   "metadata": {},
   "outputs": [
    {
     "data": {
      "text/html": [
       "<div>\n",
       "<style scoped>\n",
       "    .dataframe tbody tr th:only-of-type {\n",
       "        vertical-align: middle;\n",
       "    }\n",
       "\n",
       "    .dataframe tbody tr th {\n",
       "        vertical-align: top;\n",
       "    }\n",
       "\n",
       "    .dataframe thead th {\n",
       "        text-align: right;\n",
       "    }\n",
       "</style>\n",
       "<table border=\"1\" class=\"dataframe\">\n",
       "  <thead>\n",
       "    <tr style=\"text-align: right;\">\n",
       "      <th></th>\n",
       "      <th>level_1</th>\n",
       "      <th>0</th>\n",
       "    </tr>\n",
       "    <tr>\n",
       "      <th>username</th>\n",
       "      <th></th>\n",
       "      <th></th>\n",
       "    </tr>\n",
       "  </thead>\n",
       "  <tbody>\n",
       "    <tr>\n",
       "      <th>nishowsan</th>\n",
       "      <td>0</td>\n",
       "      <td>josh</td>\n",
       "    </tr>\n",
       "    <tr>\n",
       "      <th>nishowsan</th>\n",
       "      <td>1</td>\n",
       "      <td>benschwarz</td>\n",
       "    </tr>\n",
       "    <tr>\n",
       "      <th>nishowsan</th>\n",
       "      <td>2</td>\n",
       "      <td>andrew</td>\n",
       "    </tr>\n",
       "    <tr>\n",
       "      <th>nishowsan</th>\n",
       "      <td>3</td>\n",
       "      <td>tmm1</td>\n",
       "    </tr>\n",
       "    <tr>\n",
       "      <th>nishowsan</th>\n",
       "      <td>4</td>\n",
       "      <td>mitsuhiko</td>\n",
       "    </tr>\n",
       "  </tbody>\n",
       "</table>\n",
       "</div>"
      ],
      "text/plain": [
       "           level_1           0\n",
       "username                      \n",
       "nishowsan        0        josh\n",
       "nishowsan        1  benschwarz\n",
       "nishowsan        2      andrew\n",
       "nishowsan        3        tmm1\n",
       "nishowsan        4   mitsuhiko"
      ]
     },
     "execution_count": 24,
     "metadata": {},
     "output_type": "execute_result"
    }
   ],
   "source": [
    "# stack dataframe\n",
    "\n",
    "stacked_new_df = pd.DataFrame(new_df.following.tolist(), index=new_df.username).stack().reset_index(level=1, drop=False)\n",
    "stacked_new_df.head()"
   ]
  },
  {
   "cell_type": "code",
   "execution_count": 25,
   "metadata": {},
   "outputs": [],
   "source": [
    "# fix axis names\n",
    "stacked_new_df.rename({0:\"following\"},axis=1, inplace=True)\n",
    "stacked_new_df.rename({\"level_1\":\"rating\"},axis=1, inplace=True)"
   ]
  },
  {
   "cell_type": "code",
   "execution_count": 26,
   "metadata": {},
   "outputs": [
    {
     "data": {
      "text/html": [
       "<div>\n",
       "<style scoped>\n",
       "    .dataframe tbody tr th:only-of-type {\n",
       "        vertical-align: middle;\n",
       "    }\n",
       "\n",
       "    .dataframe tbody tr th {\n",
       "        vertical-align: top;\n",
       "    }\n",
       "\n",
       "    .dataframe thead th {\n",
       "        text-align: right;\n",
       "    }\n",
       "</style>\n",
       "<table border=\"1\" class=\"dataframe\">\n",
       "  <thead>\n",
       "    <tr style=\"text-align: right;\">\n",
       "      <th></th>\n",
       "      <th>rating</th>\n",
       "      <th>following</th>\n",
       "    </tr>\n",
       "    <tr>\n",
       "      <th>username</th>\n",
       "      <th></th>\n",
       "      <th></th>\n",
       "    </tr>\n",
       "  </thead>\n",
       "  <tbody>\n",
       "    <tr>\n",
       "      <th>nishowsan</th>\n",
       "      <td>0</td>\n",
       "      <td>josh</td>\n",
       "    </tr>\n",
       "    <tr>\n",
       "      <th>nishowsan</th>\n",
       "      <td>1</td>\n",
       "      <td>benschwarz</td>\n",
       "    </tr>\n",
       "    <tr>\n",
       "      <th>nishowsan</th>\n",
       "      <td>2</td>\n",
       "      <td>andrew</td>\n",
       "    </tr>\n",
       "    <tr>\n",
       "      <th>nishowsan</th>\n",
       "      <td>3</td>\n",
       "      <td>tmm1</td>\n",
       "    </tr>\n",
       "    <tr>\n",
       "      <th>nishowsan</th>\n",
       "      <td>4</td>\n",
       "      <td>mitsuhiko</td>\n",
       "    </tr>\n",
       "  </tbody>\n",
       "</table>\n",
       "</div>"
      ],
      "text/plain": [
       "           rating   following\n",
       "username                     \n",
       "nishowsan       0        josh\n",
       "nishowsan       1  benschwarz\n",
       "nishowsan       2      andrew\n",
       "nishowsan       3        tmm1\n",
       "nishowsan       4   mitsuhiko"
      ]
     },
     "execution_count": 26,
     "metadata": {},
     "output_type": "execute_result"
    }
   ],
   "source": [
    "stacked_new_df.head()"
   ]
  },
  {
   "cell_type": "code",
   "execution_count": 31,
   "metadata": {},
   "outputs": [],
   "source": [
    "# fix levels after stack\n",
    "stacked_new_df = stacked_new_df.reset_index(level=0, drop=False)\n"
   ]
  },
  {
   "cell_type": "code",
   "execution_count": null,
   "metadata": {},
   "outputs": [],
   "source": [
    "stacked_new_df.drop('index', inplace=True, axis = 1)"
   ]
  },
  {
   "cell_type": "code",
   "execution_count": 32,
   "metadata": {},
   "outputs": [
    {
     "data": {
      "text/html": [
       "<div>\n",
       "<style scoped>\n",
       "    .dataframe tbody tr th:only-of-type {\n",
       "        vertical-align: middle;\n",
       "    }\n",
       "\n",
       "    .dataframe tbody tr th {\n",
       "        vertical-align: top;\n",
       "    }\n",
       "\n",
       "    .dataframe thead th {\n",
       "        text-align: right;\n",
       "    }\n",
       "</style>\n",
       "<table border=\"1\" class=\"dataframe\">\n",
       "  <thead>\n",
       "    <tr style=\"text-align: right;\">\n",
       "      <th></th>\n",
       "      <th>level_0</th>\n",
       "      <th>username</th>\n",
       "      <th>rating</th>\n",
       "      <th>following</th>\n",
       "    </tr>\n",
       "  </thead>\n",
       "  <tbody>\n",
       "    <tr>\n",
       "      <th>0</th>\n",
       "      <td>0</td>\n",
       "      <td>nishowsan</td>\n",
       "      <td>0</td>\n",
       "      <td>josh</td>\n",
       "    </tr>\n",
       "    <tr>\n",
       "      <th>1</th>\n",
       "      <td>1</td>\n",
       "      <td>nishowsan</td>\n",
       "      <td>1</td>\n",
       "      <td>benschwarz</td>\n",
       "    </tr>\n",
       "    <tr>\n",
       "      <th>2</th>\n",
       "      <td>2</td>\n",
       "      <td>nishowsan</td>\n",
       "      <td>2</td>\n",
       "      <td>andrew</td>\n",
       "    </tr>\n",
       "    <tr>\n",
       "      <th>3</th>\n",
       "      <td>3</td>\n",
       "      <td>nishowsan</td>\n",
       "      <td>3</td>\n",
       "      <td>tmm1</td>\n",
       "    </tr>\n",
       "    <tr>\n",
       "      <th>4</th>\n",
       "      <td>4</td>\n",
       "      <td>nishowsan</td>\n",
       "      <td>4</td>\n",
       "      <td>mitsuhiko</td>\n",
       "    </tr>\n",
       "  </tbody>\n",
       "</table>\n",
       "</div>"
      ],
      "text/plain": [
       "   level_0   username  rating   following\n",
       "0        0  nishowsan       0        josh\n",
       "1        1  nishowsan       1  benschwarz\n",
       "2        2  nishowsan       2      andrew\n",
       "3        3  nishowsan       3        tmm1\n",
       "4        4  nishowsan       4   mitsuhiko"
      ]
     },
     "execution_count": 32,
     "metadata": {},
     "output_type": "execute_result"
    }
   ],
   "source": [
    "stacked_new_df.head()"
   ]
  },
  {
   "cell_type": "code",
   "execution_count": 53,
   "metadata": {},
   "outputs": [],
   "source": [
    "# reset rating col, remove level col\n",
    "stacked_new_df['rating']=1\n",
    "stacked_new_df.drop('level_0', inplace=True, axis = 1)\n",
    "#stacked_new_df.head()\n",
    "\n",
    "# now stacked_new_df is a clean stacked working copy ordered by number of people user is following"
   ]
  },
  {
   "cell_type": "code",
   "execution_count": 42,
   "metadata": {},
   "outputs": [
    {
     "data": {
      "text/plain": [
       "30728"
      ]
     },
     "execution_count": 42,
     "metadata": {},
     "output_type": "execute_result"
    }
   ],
   "source": [
    "len(stacked_new_df['username'].unique())"
   ]
  },
  {
   "cell_type": "code",
   "execution_count": 43,
   "metadata": {},
   "outputs": [
    {
     "data": {
      "text/plain": [
       "(435472, 3)"
      ]
     },
     "execution_count": 43,
     "metadata": {},
     "output_type": "execute_result"
    }
   ],
   "source": [
    "stacked_new_df.shape"
   ]
  },
  {
   "cell_type": "code",
   "execution_count": 46,
   "metadata": {},
   "outputs": [],
   "source": [
    "# add in negative rating info\n",
    "\n",
    "stacked_new_df2 = pd.DataFrame()\n",
    "\n",
    "for username in stacked_new_df['username'].unique():\n",
    "    #print(username)\n",
    "    stacked_new_df2 = stacked_new_df2.append({'username': username, 'rating': int(0), 'following': 'alexpfox'}, ignore_index=True)\n",
    "    \n",
    "\n",
    "# for username in stacked_new_df2['username'].unique():\n",
    "#     # print(username)\n",
    "#     # if they do actually follow josh, don't add him\n",
    "#         stacked_new_df2 = stacked_new_df2.append({'username':username, 'rating':0, 'following': 'alexpfox'}, ignore_index=True)\n",
    "#         continue\n",
    "#     else:\n",
    "#         #stacked_new_df2 = stacked_new_df2.append({'username':username, 'rating':0, 'following': 'josh'}, ignore_index=True)"
   ]
  },
  {
   "cell_type": "code",
   "execution_count": 48,
   "metadata": {},
   "outputs": [
    {
     "data": {
      "text/plain": [
       "(0, 0)"
      ]
     },
     "execution_count": 48,
     "metadata": {},
     "output_type": "execute_result"
    }
   ],
   "source": [
    "stacked_zeros_df = pd.DataFrame()\n",
    "stacked_zeros_df.shape"
   ]
  },
  {
   "cell_type": "code",
   "execution_count": 49,
   "metadata": {},
   "outputs": [
    {
     "data": {
      "text/html": [
       "<div>\n",
       "<style scoped>\n",
       "    .dataframe tbody tr th:only-of-type {\n",
       "        vertical-align: middle;\n",
       "    }\n",
       "\n",
       "    .dataframe tbody tr th {\n",
       "        vertical-align: top;\n",
       "    }\n",
       "\n",
       "    .dataframe thead th {\n",
       "        text-align: right;\n",
       "    }\n",
       "</style>\n",
       "<table border=\"1\" class=\"dataframe\">\n",
       "  <thead>\n",
       "    <tr style=\"text-align: right;\">\n",
       "      <th></th>\n",
       "      <th>following</th>\n",
       "      <th>rating</th>\n",
       "      <th>username</th>\n",
       "    </tr>\n",
       "  </thead>\n",
       "  <tbody>\n",
       "    <tr>\n",
       "      <th>0</th>\n",
       "      <td>josh</td>\n",
       "      <td>1.0</td>\n",
       "      <td>nishowsan</td>\n",
       "    </tr>\n",
       "    <tr>\n",
       "      <th>1</th>\n",
       "      <td>benschwarz</td>\n",
       "      <td>1.0</td>\n",
       "      <td>nishowsan</td>\n",
       "    </tr>\n",
       "    <tr>\n",
       "      <th>2</th>\n",
       "      <td>andrew</td>\n",
       "      <td>1.0</td>\n",
       "      <td>nishowsan</td>\n",
       "    </tr>\n",
       "    <tr>\n",
       "      <th>3</th>\n",
       "      <td>tmm1</td>\n",
       "      <td>1.0</td>\n",
       "      <td>nishowsan</td>\n",
       "    </tr>\n",
       "    <tr>\n",
       "      <th>4</th>\n",
       "      <td>mitsuhiko</td>\n",
       "      <td>1.0</td>\n",
       "      <td>nishowsan</td>\n",
       "    </tr>\n",
       "  </tbody>\n",
       "</table>\n",
       "</div>"
      ],
      "text/plain": [
       "    following  rating   username\n",
       "0        josh     1.0  nishowsan\n",
       "1  benschwarz     1.0  nishowsan\n",
       "2      andrew     1.0  nishowsan\n",
       "3        tmm1     1.0  nishowsan\n",
       "4   mitsuhiko     1.0  nishowsan"
      ]
     },
     "execution_count": 49,
     "metadata": {},
     "output_type": "execute_result"
    }
   ],
   "source": [
    "stacked_zeros_df = stacked_new_df.append(stacked_new_df2)\n",
    "\n",
    "stacked_zeros_df.head()"
   ]
  },
  {
   "cell_type": "code",
   "execution_count": 50,
   "metadata": {},
   "outputs": [
    {
     "data": {
      "text/plain": [
       "(466200, 3)"
      ]
     },
     "execution_count": 50,
     "metadata": {},
     "output_type": "execute_result"
    }
   ],
   "source": [
    "stacked_zeros_df.shape"
   ]
  },
  {
   "cell_type": "code",
   "execution_count": null,
   "metadata": {},
   "outputs": [],
   "source": [
    "#stacked_new_df2.loc[stacked_new_df2['rating'] == 0] # works!"
   ]
  },
  {
   "cell_type": "code",
   "execution_count": 51,
   "metadata": {},
   "outputs": [],
   "source": [
    "with open(\"data/stacked_zeros_df.pickle\", 'wb') as fp:\n",
    "    pickle.dump(stacked_zeros_df, fp)"
   ]
  },
  {
   "cell_type": "code",
   "execution_count": 52,
   "metadata": {},
   "outputs": [
    {
     "data": {
      "text/plain": [
       "(466200, 3)"
      ]
     },
     "execution_count": 52,
     "metadata": {},
     "output_type": "execute_result"
    }
   ],
   "source": [
    "stacked_zeros_df.shape"
   ]
  },
  {
   "cell_type": "markdown",
   "metadata": {},
   "source": [
    "## reshape df"
   ]
  },
  {
   "cell_type": "code",
   "execution_count": null,
   "metadata": {},
   "outputs": [],
   "source": [
    "df2.head()"
   ]
  },
  {
   "cell_type": "code",
   "execution_count": null,
   "metadata": {},
   "outputs": [],
   "source": [
    "df5 = df2\n",
    "\n",
    "# print(df5.head)\n",
    "\n",
    "for username in range(0, len(df2)):\n",
    "    df5.at[username, 'following'] = ' '.join(df5.at[username, 'following'])\n",
    "    \n",
    "df5.head(20)    "
   ]
  },
  {
   "cell_type": "code",
   "execution_count": null,
   "metadata": {},
   "outputs": [],
   "source": [
    "df5.shape"
   ]
  },
  {
   "cell_type": "code",
   "execution_count": null,
   "metadata": {},
   "outputs": [],
   "source": [
    "from sklearn.feature_extraction.text import CountVectorizer "
   ]
  },
  {
   "cell_type": "code",
   "execution_count": null,
   "metadata": {},
   "outputs": [],
   "source": [
    "cv = CountVectorizer()"
   ]
  },
  {
   "cell_type": "code",
   "execution_count": null,
   "metadata": {},
   "outputs": [],
   "source": [
    "cv1 = cv.fit_transform(df2.following) # creates dense matrix"
   ]
  },
  {
   "cell_type": "code",
   "execution_count": null,
   "metadata": {},
   "outputs": [],
   "source": [
    "print(cv1)"
   ]
  },
  {
   "cell_type": "code",
   "execution_count": null,
   "metadata": {},
   "outputs": [],
   "source": [
    "cv2 = cv1.toarray()"
   ]
  },
  {
   "cell_type": "code",
   "execution_count": null,
   "metadata": {},
   "outputs": [],
   "source": [
    "print(cv2)"
   ]
  },
  {
   "cell_type": "code",
   "execution_count": null,
   "metadata": {},
   "outputs": [],
   "source": [
    "with open(\"data/df.pickle\", 'wb') as fp:\n",
    "    pickle.dump(df5, fp)"
   ]
  },
  {
   "cell_type": "markdown",
   "metadata": {},
   "source": [
    "## Build a recommender"
   ]
  },
  {
   "cell_type": "code",
   "execution_count": null,
   "metadata": {},
   "outputs": [],
   "source": [
    "# happening in aws\n",
    "\n",
    "from surprise import NormalPredictor\n",
    "from surprise import Dataset\n",
    "from surprise import Reader\n",
    "from surprise.model_selection import cross_validate\n",
    "\n",
    "#dfs['rating'] = 5\n",
    "#df.head()\n",
    "\n",
    "reader = Reader(rating_scale=(1, 5))\n",
    "\n",
    "# The columns must correspond to user id, item id and ratings (in that order).\n",
    "data = cv2 #Dataset.load_from_df(dfs[['username', 'following', 'rating']], reader)\n",
    "\n",
    "# We can now use this dataset as we please, e.g. calling cross_validate\n",
    "cross_validate(NormalPredictor(), data, cv=2)"
   ]
  },
  {
   "cell_type": "code",
   "execution_count": null,
   "metadata": {},
   "outputs": [],
   "source": []
  }
 ],
 "metadata": {
  "kernelspec": {
   "display_name": "Python 3",
   "language": "python",
   "name": "python3"
  },
  "language_info": {
   "codemirror_mode": {
    "name": "ipython",
    "version": 3
   },
   "file_extension": ".py",
   "mimetype": "text/x-python",
   "name": "python",
   "nbconvert_exporter": "python",
   "pygments_lexer": "ipython3",
   "version": "3.6.5"
  }
 },
 "nbformat": 4,
 "nbformat_minor": 2
}
