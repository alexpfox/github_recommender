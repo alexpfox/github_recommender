{
 "cells": [
  {
   "cell_type": "code",
   "execution_count": 22,
   "metadata": {},
   "outputs": [],
   "source": [
    "from bs4 import BeautifulSoup # https://www.crummy.com/software/BeautifulSoup/bs4/doc/\n",
    "import requests\n",
    "import random\n",
    "import time\n",
    "\n",
    "import pymongo\n",
    "from pymongo import MongoClient"
   ]
  },
  {
   "cell_type": "code",
   "execution_count": 16,
   "metadata": {},
   "outputs": [],
   "source": [
    "# page format = 'http://git-awards.com/users?language=python&page=1&type=world&utf8=%E2%9C%93'\n",
    "# username link format = https://github.com/donnemartin\n",
    "# stars format = https://github.com/donnemartin?tab=stars"
   ]
  },
  {
   "cell_type": "markdown",
   "metadata": {},
   "source": [
    "### test workflow"
   ]
  },
  {
   "cell_type": "code",
   "execution_count": 160,
   "metadata": {},
   "outputs": [
    {
     "name": "stdout",
     "output_type": "stream",
     "text": [
      "None None None\n",
      "donnemartin 1 89791 \n",
      "kennethreitz 2 79284 \n",
      "google 3 63800 \n",
      "tensorflow 4 56466 \n",
      "pallets 5 51434 \n",
      "django 6 40897 \n",
      "mitsuhiko 7 40026 \n",
      "jakubroztocil 8 38019 \n",
      "ansible 9 37690 \n",
      "nvbn 10 37028 \n",
      "openai 11 35860 \n",
      "rg3 12 35586 \n",
      "toddmotto 13 35037 \n",
      "openstack 14 33974 \n",
      "requests 15 33240 \n",
      "josephmisiti 16 32379 \n",
      "facebookresearch 17 31782 \n",
      "scrapy 18 30892 \n",
      "airbnb 19 30128 \n",
      "jkbrzt 20 29522 \n",
      "keras-team 21 28261 \n",
      "minimaxir 22 27543 \n",
      "scikit-learn 23 27131 \n",
      "python 24 27074 \n",
      "fchollet 25 26426 \n",
      "[<td><a href=\"/users/fchollet\"><img alt=\"710255?v=3\" class=\"thumbnail avatar\" src=\"https://avatars.githubusercontent.com/u/710255?v=3\"/></a></td>, <td class=\"username\"><a href=\"/users/fchollet\">fchollet</a></td>, <td>25</td>, <td>26426 <i class=\"fa fa-star star\"></i></td>]\n"
     ]
    }
   ],
   "source": [
    "url = 'http://git-awards.com/users?language=python&page=1&type=world&utf8=%E2%9C%93'\n",
    "response = requests.get(url)\n",
    "html = response.content\n",
    "soup = BeautifulSoup(html, 'html.parser')\n",
    "\n",
    "def parse_row_content(tags):\n",
    "    username = None\n",
    "    rank = None\n",
    "    stars = None\n",
    "    \n",
    "    for tag in tags:\n",
    "        class_ = tag.attrs.get('class')\n",
    "        if class_ == ['username']:\n",
    "            username = tag.a.contents[0]\n",
    "        elif tag.a != None:\n",
    "            pass\n",
    "        elif len(tag.contents) == 1:\n",
    "            rank = tag.contents[0]\n",
    "        elif len(tag.contents) == 2:\n",
    "            stars = tag.contents[0]\n",
    "        \n",
    "    return (username, rank, stars)\n",
    "\n",
    "\n",
    "for row in soup.findAll('tr'):\n",
    "    row_content = row.findAll('td')\n",
    "    username, rank, stars = parse_row_content(row_content)\n",
    "    print(username, rank, stars)\n",
    "            \n",
    "            \n",
    "print(row_content)\n",
    "# print(type(row_content))\n",
    "\n",
    "\n",
    "    #username = row_content.findAll(\"td\", {\"class\": \"username\"})\n",
    "#     rank = \n",
    "#     stars =  \n",
    "\n",
    "# return full list of "
   ]
  },
  {
   "cell_type": "code",
   "execution_count": null,
   "metadata": {},
   "outputs": [],
   "source": []
  },
  {
   "cell_type": "code",
   "execution_count": null,
   "metadata": {},
   "outputs": [],
   "source": []
  },
  {
   "cell_type": "code",
   "execution_count": null,
   "metadata": {},
   "outputs": [],
   "source": []
  },
  {
   "cell_type": "markdown",
   "metadata": {},
   "source": [
    "### Scrape usernames to get starred list for each user later"
   ]
  },
  {
   "cell_type": "code",
   "execution_count": null,
   "metadata": {},
   "outputs": [],
   "source": [
    "# get Username, World rank, Stars\n",
    "\n",
    "pages = 23555"
   ]
  },
  {
   "cell_type": "code",
   "execution_count": 17,
   "metadata": {},
   "outputs": [],
   "source": [
    "def get_usernames(page):\n",
    "    url = 'http://git-awards.com/users?language=python&page=' + str(page) + '&type=world&utf8=%E2%9C%93'\n",
    "    response = requests.get(url)\n",
    "    html = response.content\n",
    "    soup = BeautifulSoup(html, 'html.parser')\n",
    "    \n",
    "   # get username, rank #, starred # as triplet\n",
    "\n",
    "    return (list of triplets from page to store in mongodb)"
   ]
  },
  {
   "cell_type": "code",
   "execution_count": null,
   "metadata": {},
   "outputs": [],
   "source": [
    "for page in range(1, pages):\n",
    "    # scrape page\n",
    "    # store in mongodb collection"
   ]
  },
  {
   "cell_type": "code",
   "execution_count": 34,
   "metadata": {},
   "outputs": [],
   "source": [
    "table = soup.find('tbody')"
   ]
  },
  {
   "cell_type": "code",
   "execution_count": 60,
   "metadata": {},
   "outputs": [
    {
     "name": "stdout",
     "output_type": "stream",
     "text": [
      "[]\n",
      "[<td><a href=\"/users/fchollet\"><img alt=\"710255?v=3\" class=\"thumbnail avatar\" src=\"https://avatars.githubusercontent.com/u/710255?v=3\"/></a></td>, <td class=\"username\"><a href=\"/users/fchollet\">fchollet</a></td>, <td>25</td>, <td>26426 <i class=\"fa fa-star star\"></i></td>]\n",
      "[<td><a href=\"/users/donnemartin\"><img alt=\"5458997?v=4\" class=\"thumbnail avatar\" src=\"https://avatars2.githubusercontent.com/u/5458997?v=4\"/></a></td>, <td class=\"username\"><a href=\"/users/donnemartin\">donnemartin</a></td>, <td>1</td>, <td>89791 <i class=\"fa fa-star star\"></i></td>]\n",
      "[<td><a href=\"/users/fchollet\"><img alt=\"710255?v=3\" class=\"thumbnail avatar\" src=\"https://avatars.githubusercontent.com/u/710255?v=3\"/></a></td>, <td class=\"username\"><a href=\"/users/fchollet\">fchollet</a></td>, <td>25</td>, <td>26426 <i class=\"fa fa-star star\"></i></td>]\n",
      "[<td><a href=\"/users/kennethreitz\"><img alt=\"119893?v=3\" class=\"thumbnail avatar\" src=\"https://avatars.githubusercontent.com/u/119893?v=3\"/></a></td>, <td class=\"username\"><a href=\"/users/kennethreitz\">kennethreitz</a></td>, <td>2</td>, <td>79284 <i class=\"fa fa-star star\"></i></td>]\n",
      "[<td><a href=\"/users/fchollet\"><img alt=\"710255?v=3\" class=\"thumbnail avatar\" src=\"https://avatars.githubusercontent.com/u/710255?v=3\"/></a></td>, <td class=\"username\"><a href=\"/users/fchollet\">fchollet</a></td>, <td>25</td>, <td>26426 <i class=\"fa fa-star star\"></i></td>]\n",
      "[<td><a href=\"/users/google\"><img alt=\"1342004?v=3\" class=\"thumbnail avatar\" src=\"https://avatars.githubusercontent.com/u/1342004?v=3\"/></a></td>, <td class=\"username\"><a href=\"/users/google\">google</a></td>, <td>3</td>, <td>63800 <i class=\"fa fa-star star\"></i></td>]\n",
      "[<td><a href=\"/users/fchollet\"><img alt=\"710255?v=3\" class=\"thumbnail avatar\" src=\"https://avatars.githubusercontent.com/u/710255?v=3\"/></a></td>, <td class=\"username\"><a href=\"/users/fchollet\">fchollet</a></td>, <td>25</td>, <td>26426 <i class=\"fa fa-star star\"></i></td>]\n",
      "[<td><a href=\"/users/tensorflow\"><img alt=\"15658638?v=3\" class=\"thumbnail avatar\" src=\"https://avatars.githubusercontent.com/u/15658638?v=3\"/></a></td>, <td class=\"username\"><a href=\"/users/tensorflow\">tensorflow</a></td>, <td>4</td>, <td>56466 <i class=\"fa fa-star star\"></i></td>]\n",
      "[<td><a href=\"/users/fchollet\"><img alt=\"710255?v=3\" class=\"thumbnail avatar\" src=\"https://avatars.githubusercontent.com/u/710255?v=3\"/></a></td>, <td class=\"username\"><a href=\"/users/fchollet\">fchollet</a></td>, <td>25</td>, <td>26426 <i class=\"fa fa-star star\"></i></td>]\n",
      "[<td><a href=\"/users/pallets\"><img alt=\"16748505?v=3\" class=\"thumbnail avatar\" src=\"https://avatars.githubusercontent.com/u/16748505?v=3\"/></a></td>, <td class=\"username\"><a href=\"/users/pallets\">pallets</a></td>, <td>5</td>, <td>51434 <i class=\"fa fa-star star\"></i></td>]\n",
      "[<td><a href=\"/users/fchollet\"><img alt=\"710255?v=3\" class=\"thumbnail avatar\" src=\"https://avatars.githubusercontent.com/u/710255?v=3\"/></a></td>, <td class=\"username\"><a href=\"/users/fchollet\">fchollet</a></td>, <td>25</td>, <td>26426 <i class=\"fa fa-star star\"></i></td>]\n",
      "[<td><a href=\"/users/django\"><img alt=\"27804?v=3\" class=\"thumbnail avatar\" src=\"https://avatars.githubusercontent.com/u/27804?v=3\"/></a></td>, <td class=\"username\"><a href=\"/users/django\">django</a></td>, <td>6</td>, <td>40897 <i class=\"fa fa-star star\"></i></td>]\n",
      "[<td><a href=\"/users/fchollet\"><img alt=\"710255?v=3\" class=\"thumbnail avatar\" src=\"https://avatars.githubusercontent.com/u/710255?v=3\"/></a></td>, <td class=\"username\"><a href=\"/users/fchollet\">fchollet</a></td>, <td>25</td>, <td>26426 <i class=\"fa fa-star star\"></i></td>]\n",
      "[<td><a href=\"/users/mitsuhiko\"><img alt=\"7396?v=3\" class=\"thumbnail avatar\" src=\"https://avatars.githubusercontent.com/u/7396?v=3\"/></a></td>, <td class=\"username\"><a href=\"/users/mitsuhiko\">mitsuhiko</a></td>, <td>7</td>, <td>40026 <i class=\"fa fa-star star\"></i></td>]\n",
      "[<td><a href=\"/users/fchollet\"><img alt=\"710255?v=3\" class=\"thumbnail avatar\" src=\"https://avatars.githubusercontent.com/u/710255?v=3\"/></a></td>, <td class=\"username\"><a href=\"/users/fchollet\">fchollet</a></td>, <td>25</td>, <td>26426 <i class=\"fa fa-star star\"></i></td>]\n",
      "[<td><a href=\"/users/jakubroztocil\"><img alt=\"326885?v=4\" class=\"thumbnail avatar\" src=\"https://avatars3.githubusercontent.com/u/326885?v=4\"/></a></td>, <td class=\"username\"><a href=\"/users/jakubroztocil\">jakubroztocil</a></td>, <td>8</td>, <td>38019 <i class=\"fa fa-star star\"></i></td>]\n",
      "[<td><a href=\"/users/fchollet\"><img alt=\"710255?v=3\" class=\"thumbnail avatar\" src=\"https://avatars.githubusercontent.com/u/710255?v=3\"/></a></td>, <td class=\"username\"><a href=\"/users/fchollet\">fchollet</a></td>, <td>25</td>, <td>26426 <i class=\"fa fa-star star\"></i></td>]\n",
      "[<td><a href=\"/users/ansible\"><img alt=\"1507452?v=3\" class=\"thumbnail avatar\" src=\"https://avatars.githubusercontent.com/u/1507452?v=3\"/></a></td>, <td class=\"username\"><a href=\"/users/ansible\">ansible</a></td>, <td>9</td>, <td>37690 <i class=\"fa fa-star star\"></i></td>]\n",
      "[<td><a href=\"/users/fchollet\"><img alt=\"710255?v=3\" class=\"thumbnail avatar\" src=\"https://avatars.githubusercontent.com/u/710255?v=3\"/></a></td>, <td class=\"username\"><a href=\"/users/fchollet\">fchollet</a></td>, <td>25</td>, <td>26426 <i class=\"fa fa-star star\"></i></td>]\n",
      "[<td><a href=\"/users/nvbn\"><img alt=\"1114542?v=3\" class=\"thumbnail avatar\" src=\"https://avatars.githubusercontent.com/u/1114542?v=3\"/></a></td>, <td class=\"username\"><a href=\"/users/nvbn\">nvbn</a></td>, <td>10</td>, <td>37028 <i class=\"fa fa-star star\"></i></td>]\n",
      "[<td><a href=\"/users/fchollet\"><img alt=\"710255?v=3\" class=\"thumbnail avatar\" src=\"https://avatars.githubusercontent.com/u/710255?v=3\"/></a></td>, <td class=\"username\"><a href=\"/users/fchollet\">fchollet</a></td>, <td>25</td>, <td>26426 <i class=\"fa fa-star star\"></i></td>]\n",
      "[<td><a href=\"/users/openai\"><img alt=\"1887070?v=3\" class=\"thumbnail avatar\" src=\"https://avatars.githubusercontent.com/u/1887070?v=3\"/></a></td>, <td class=\"username\"><a href=\"/users/openai\">openai</a></td>, <td>11</td>, <td>35860 <i class=\"fa fa-star star\"></i></td>]\n",
      "[<td><a href=\"/users/fchollet\"><img alt=\"710255?v=3\" class=\"thumbnail avatar\" src=\"https://avatars.githubusercontent.com/u/710255?v=3\"/></a></td>, <td class=\"username\"><a href=\"/users/fchollet\">fchollet</a></td>, <td>25</td>, <td>26426 <i class=\"fa fa-star star\"></i></td>]\n",
      "[<td><a href=\"/users/rg3\"><img alt=\"53487?v=3\" class=\"thumbnail avatar\" src=\"https://avatars.githubusercontent.com/u/53487?v=3\"/></a></td>, <td class=\"username\"><a href=\"/users/rg3\">rg3</a></td>, <td>12</td>, <td>35586 <i class=\"fa fa-star star\"></i></td>]\n",
      "[<td><a href=\"/users/fchollet\"><img alt=\"710255?v=3\" class=\"thumbnail avatar\" src=\"https://avatars.githubusercontent.com/u/710255?v=3\"/></a></td>, <td class=\"username\"><a href=\"/users/fchollet\">fchollet</a></td>, <td>25</td>, <td>26426 <i class=\"fa fa-star star\"></i></td>]\n",
      "[<td><a href=\"/users/toddmotto\"><img alt=\"1655968?v=3\" class=\"thumbnail avatar\" src=\"https://avatars.githubusercontent.com/u/1655968?v=3\"/></a></td>, <td class=\"username\"><a href=\"/users/toddmotto\">toddmotto</a></td>, <td>13</td>, <td>35037 <i class=\"fa fa-star star\"></i></td>]\n",
      "[<td><a href=\"/users/fchollet\"><img alt=\"710255?v=3\" class=\"thumbnail avatar\" src=\"https://avatars.githubusercontent.com/u/710255?v=3\"/></a></td>, <td class=\"username\"><a href=\"/users/fchollet\">fchollet</a></td>, <td>25</td>, <td>26426 <i class=\"fa fa-star star\"></i></td>]\n",
      "[<td><a href=\"/users/openstack\"><img alt=\"324574?v=3\" class=\"thumbnail avatar\" src=\"https://avatars.githubusercontent.com/u/324574?v=3\"/></a></td>, <td class=\"username\"><a href=\"/users/openstack\">openstack</a></td>, <td>14</td>, <td>33974 <i class=\"fa fa-star star\"></i></td>]\n",
      "[<td><a href=\"/users/fchollet\"><img alt=\"710255?v=3\" class=\"thumbnail avatar\" src=\"https://avatars.githubusercontent.com/u/710255?v=3\"/></a></td>, <td class=\"username\"><a href=\"/users/fchollet\">fchollet</a></td>, <td>25</td>, <td>26426 <i class=\"fa fa-star star\"></i></td>]\n",
      "[<td><a href=\"/users/requests\"><img alt=\"2805331?v=3\" class=\"thumbnail avatar\" src=\"https://avatars.githubusercontent.com/u/2805331?v=3\"/></a></td>, <td class=\"username\"><a href=\"/users/requests\">requests</a></td>, <td>15</td>, <td>33240 <i class=\"fa fa-star star\"></i></td>]\n",
      "[<td><a href=\"/users/fchollet\"><img alt=\"710255?v=3\" class=\"thumbnail avatar\" src=\"https://avatars.githubusercontent.com/u/710255?v=3\"/></a></td>, <td class=\"username\"><a href=\"/users/fchollet\">fchollet</a></td>, <td>25</td>, <td>26426 <i class=\"fa fa-star star\"></i></td>]\n",
      "[<td><a href=\"/users/josephmisiti\"><img alt=\"246302?v=3\" class=\"thumbnail avatar\" src=\"https://avatars.githubusercontent.com/u/246302?v=3\"/></a></td>, <td class=\"username\"><a href=\"/users/josephmisiti\">josephmisiti</a></td>, <td>16</td>, <td>32379 <i class=\"fa fa-star star\"></i></td>]\n",
      "[<td><a href=\"/users/fchollet\"><img alt=\"710255?v=3\" class=\"thumbnail avatar\" src=\"https://avatars.githubusercontent.com/u/710255?v=3\"/></a></td>, <td class=\"username\"><a href=\"/users/fchollet\">fchollet</a></td>, <td>25</td>, <td>26426 <i class=\"fa fa-star star\"></i></td>]\n",
      "[<td><a href=\"/users/facebookresearch\"><img alt=\"16943930?v=3\" class=\"thumbnail avatar\" src=\"https://avatars.githubusercontent.com/u/16943930?v=3\"/></a></td>, <td class=\"username\"><a href=\"/users/facebookresearch\">facebookresearch</a></td>, <td>17</td>, <td>31782 <i class=\"fa fa-star star\"></i></td>]\n",
      "[<td><a href=\"/users/fchollet\"><img alt=\"710255?v=3\" class=\"thumbnail avatar\" src=\"https://avatars.githubusercontent.com/u/710255?v=3\"/></a></td>, <td class=\"username\"><a href=\"/users/fchollet\">fchollet</a></td>, <td>25</td>, <td>26426 <i class=\"fa fa-star star\"></i></td>]\n",
      "[<td><a href=\"/users/scrapy\"><img alt=\"733635?v=3\" class=\"thumbnail avatar\" src=\"https://avatars.githubusercontent.com/u/733635?v=3\"/></a></td>, <td class=\"username\"><a href=\"/users/scrapy\">scrapy</a></td>, <td>18</td>, <td>30892 <i class=\"fa fa-star star\"></i></td>]\n",
      "[<td><a href=\"/users/fchollet\"><img alt=\"710255?v=3\" class=\"thumbnail avatar\" src=\"https://avatars.githubusercontent.com/u/710255?v=3\"/></a></td>, <td class=\"username\"><a href=\"/users/fchollet\">fchollet</a></td>, <td>25</td>, <td>26426 <i class=\"fa fa-star star\"></i></td>]\n",
      "[<td><a href=\"/users/airbnb\"><img alt=\"698437?v=3\" class=\"thumbnail avatar\" src=\"https://avatars.githubusercontent.com/u/698437?v=3\"/></a></td>, <td class=\"username\"><a href=\"/users/airbnb\">airbnb</a></td>, <td>19</td>, <td>30128 <i class=\"fa fa-star star\"></i></td>]\n",
      "[<td><a href=\"/users/fchollet\"><img alt=\"710255?v=3\" class=\"thumbnail avatar\" src=\"https://avatars.githubusercontent.com/u/710255?v=3\"/></a></td>, <td class=\"username\"><a href=\"/users/fchollet\">fchollet</a></td>, <td>25</td>, <td>26426 <i class=\"fa fa-star star\"></i></td>]\n",
      "[<td><a href=\"/users/jkbrzt\"><img alt=\"326885?v=3\" class=\"thumbnail avatar\" src=\"https://avatars.githubusercontent.com/u/326885?v=3\"/></a></td>, <td class=\"username\"><a href=\"/users/jkbrzt\">jkbrzt</a></td>, <td>20</td>, <td>29522 <i class=\"fa fa-star star\"></i></td>]\n",
      "[<td><a href=\"/users/fchollet\"><img alt=\"710255?v=3\" class=\"thumbnail avatar\" src=\"https://avatars.githubusercontent.com/u/710255?v=3\"/></a></td>, <td class=\"username\"><a href=\"/users/fchollet\">fchollet</a></td>, <td>25</td>, <td>26426 <i class=\"fa fa-star star\"></i></td>]\n",
      "[<td><a href=\"/users/keras-team\"><img alt=\"34455048?v=4\" class=\"thumbnail avatar\" src=\"https://avatars0.githubusercontent.com/u/34455048?v=4\"/></a></td>, <td class=\"username\"><a href=\"/users/keras-team\">keras-team</a></td>, <td>21</td>, <td>28261 <i class=\"fa fa-star star\"></i></td>]\n",
      "[<td><a href=\"/users/fchollet\"><img alt=\"710255?v=3\" class=\"thumbnail avatar\" src=\"https://avatars.githubusercontent.com/u/710255?v=3\"/></a></td>, <td class=\"username\"><a href=\"/users/fchollet\">fchollet</a></td>, <td>25</td>, <td>26426 <i class=\"fa fa-star star\"></i></td>]\n",
      "[<td><a href=\"/users/minimaxir\"><img alt=\"2179708?v=3\" class=\"thumbnail avatar\" src=\"https://avatars.githubusercontent.com/u/2179708?v=3\"/></a></td>, <td class=\"username\"><a href=\"/users/minimaxir\">minimaxir</a></td>, <td>22</td>, <td>27543 <i class=\"fa fa-star star\"></i></td>]\n",
      "[<td><a href=\"/users/fchollet\"><img alt=\"710255?v=3\" class=\"thumbnail avatar\" src=\"https://avatars.githubusercontent.com/u/710255?v=3\"/></a></td>, <td class=\"username\"><a href=\"/users/fchollet\">fchollet</a></td>, <td>25</td>, <td>26426 <i class=\"fa fa-star star\"></i></td>]\n",
      "[<td><a href=\"/users/scikit-learn\"><img alt=\"365630?v=3\" class=\"thumbnail avatar\" src=\"https://avatars.githubusercontent.com/u/365630?v=3\"/></a></td>, <td class=\"username\"><a href=\"/users/scikit-learn\">scikit-learn</a></td>, <td>23</td>, <td>27131 <i class=\"fa fa-star star\"></i></td>]\n",
      "[<td><a href=\"/users/fchollet\"><img alt=\"710255?v=3\" class=\"thumbnail avatar\" src=\"https://avatars.githubusercontent.com/u/710255?v=3\"/></a></td>, <td class=\"username\"><a href=\"/users/fchollet\">fchollet</a></td>, <td>25</td>, <td>26426 <i class=\"fa fa-star star\"></i></td>]\n",
      "[<td><a href=\"/users/python\"><img alt=\"1525981?v=3\" class=\"thumbnail avatar\" src=\"https://avatars.githubusercontent.com/u/1525981?v=3\"/></a></td>, <td class=\"username\"><a href=\"/users/python\">python</a></td>, <td>24</td>, <td>27074 <i class=\"fa fa-star star\"></i></td>]\n",
      "[<td><a href=\"/users/fchollet\"><img alt=\"710255?v=3\" class=\"thumbnail avatar\" src=\"https://avatars.githubusercontent.com/u/710255?v=3\"/></a></td>, <td class=\"username\"><a href=\"/users/fchollet\">fchollet</a></td>, <td>25</td>, <td>26426 <i class=\"fa fa-star star\"></i></td>]\n",
      "[<td><a href=\"/users/fchollet\"><img alt=\"710255?v=3\" class=\"thumbnail avatar\" src=\"https://avatars.githubusercontent.com/u/710255?v=3\"/></a></td>, <td class=\"username\"><a href=\"/users/fchollet\">fchollet</a></td>, <td>25</td>, <td>26426 <i class=\"fa fa-star star\"></i></td>]\n",
      "[<td><a href=\"/users/fchollet\"><img alt=\"710255?v=3\" class=\"thumbnail avatar\" src=\"https://avatars.githubusercontent.com/u/710255?v=3\"/></a></td>, <td class=\"username\"><a href=\"/users/fchollet\">fchollet</a></td>, <td>25</td>, <td>26426 <i class=\"fa fa-star star\"></i></td>]\n"
     ]
    }
   ],
   "source": [
    "#print(table)\n",
    "for tr in soup.findAll('tr'):\n",
    "    \n",
    "    row_content = tr.findAll('td')\n",
    "    print(row_content)\n",
    "    \n",
    "    # 0th result is image icon for user\n",
    "#     username = row_content[0].contents #.string?\n",
    "#     rank = row_content[2].contents #.string?\n",
    "#     stars =  row_content[3].contents #.string?\n",
    "    \n",
    "    print(username)"
   ]
  },
  {
   "cell_type": "code",
   "execution_count": 53,
   "metadata": {},
   "outputs": [
    {
     "data": {
      "text/plain": [
       "[<a href=\"/users/donnemartin\">donnemartin</a>]"
      ]
     },
     "execution_count": 53,
     "metadata": {},
     "output_type": "execute_result"
    }
   ],
   "source": [
    "soup.find(\"td\", class_=\"username\").contents # get one username"
   ]
  },
  {
   "cell_type": "code",
   "execution_count": null,
   "metadata": {},
   "outputs": [],
   "source": []
  },
  {
   "cell_type": "code",
   "execution_count": null,
   "metadata": {},
   "outputs": [],
   "source": []
  },
  {
   "cell_type": "code",
   "execution_count": null,
   "metadata": {},
   "outputs": [],
   "source": [
    "start = 1960 #somewhat arbitrary date cutoff because scraping dates before this is /much/ more time consuming\n",
    "stop = 2013 #exclusive, our dataset was released in 2011 and last updated in 2012 as far as I can tell\n",
    "\n",
    "years = np.arange(start,stop,1)\n",
    "ranks = np.arange(1,101,1)"
   ]
  },
  {
   "cell_type": "code",
   "execution_count": null,
   "metadata": {},
   "outputs": [],
   "source": [
    "def get_top_100(year):\n",
    "\n",
    "    #get our soup\n",
    "    url = \"http://\" + 'billboardtop100of.com/' + str(year) + '-2/'\n",
    "    response = requests.get(url)\n",
    "    html = response.text\n",
    "    soup = BeautifulSoup(html, 'html.parser')\n",
    "    \n",
    "    # extract the only table (woo!) from the page\n",
    "    table = soup.find('table')\n",
    "\n",
    "    results = {} \n",
    "    info = [] \n",
    "    # each <td> is buried in a <tr>\n",
    "    for tr in table.find_all('tr'): \n",
    "        for td in tr.find_all('td'):\n",
    "            info.append(td.text)\n",
    "            \n",
    "    # dictionary comprehension uses first value (rank) as key, then next two (artist, title) as vals\n",
    "    for i in range(0, len(info), 3): \n",
    "            results[info[i]] = (info[i+1], info[i+2])\n",
    "        \n",
    "    dict_list = []\n",
    "    for k in results.keys(): # reformatting our dictionary into something pandas can eat because I'm a bad zookeeper\n",
    "        rating = k\n",
    "        artist = results[k][0]\n",
    "        song = results[k][1]\n",
    "        \n",
    "        # store the newly formatted dictionary\n",
    "        temp_dict = {'Rating': rating,\n",
    "                     'Artist' : artist,\n",
    "                     'Song' : song,\n",
    "                     'Year' : str(year)}\n",
    "        # add the temporary dict to a list of dictionaries\n",
    "        dict_list.append(temp_dict)\n",
    "        \n",
    "    # move our list of dicts into a dataframe\n",
    "    df = pd.DataFrame(dict_list)\n",
    "    return df"
   ]
  },
  {
   "cell_type": "code",
   "execution_count": null,
   "metadata": {},
   "outputs": [],
   "source": [
    "historical_top_100 = pd.DataFrame()\n",
    "\n",
    "filler_db = pd.DataFrame(np.nan,index=np.arange(100),columns=('Rating','Artist','Song','Year')) # so that we don't error out when appending dfs for weird years\n",
    "\n",
    "for year in years: # loop through our list of years to scrape all pages\n",
    "    try:\n",
    "        historical_top_100 = historical_top_100.append((get_top_100(year)))\n",
    "        #pprint(historical_top_100)\n",
    "    except: # if we fail, instead append an empty db so that we know which years failed and can fill in later\n",
    "        d = {'Rating':np.nan, 'Artist':np.nan, 'Song':np.nan, 'Year':year }\n",
    "        filler_db = pd.DataFrame(data=d, index=np.arange(100))\n",
    "        #print(filler_db)\n",
    "        historical_top_100.join(filler_db)\n",
    "        continue\n",
    "        \n",
    "    delay = random.randint(2, 7) # add delay to make this look human-like\n",
    "    time.sleep(delay)"
   ]
  },
  {
   "cell_type": "code",
   "execution_count": null,
   "metadata": {},
   "outputs": [],
   "source": []
  },
  {
   "cell_type": "code",
   "execution_count": null,
   "metadata": {},
   "outputs": [],
   "source": [
    "# create db\n",
    "client = pymongo.MongoClient(\"mongodb://localhost:27017/\")\n",
    "db = client[\"corpora\"]\n",
    "\n",
    "# create collection for each poet\n",
    "db.create_collection('wilde')\n",
    "collection = db.get_collection('wilde')\n",
    "collection.insert_many([{'quote': row} for row in wilde_quotes])\n",
    "\n",
    "db.create_collection('frost')\n",
    "collection = db.get_collection('frost')\n",
    "collection.insert_many([{'quote': row} for row in frost_quotes])\n",
    "\n",
    "db.create_collection('kaur')\n",
    "collection = db.get_collection('kaur')\n",
    "collection.insert_many([{'quote': row} for row in kaur_quotes])\n",
    "\n",
    "db.create_collection('eliot')\n",
    "collection = db.get_collection('eliot')\n",
    "collection.insert_many([{'quote': row} for row in eliot_quotes])\n",
    "\n",
    "db.create_collection('shakespeare')\n",
    "collection = db.get_collection('shakespeare')\n",
    "collection.insert_many([{'quote': row} for row in shakespeare_quotes])"
   ]
  },
  {
   "cell_type": "code",
   "execution_count": null,
   "metadata": {},
   "outputs": [],
   "source": [
    "# check that it worked\n",
    "db.list_collection_names()"
   ]
  },
  {
   "cell_type": "code",
   "execution_count": null,
   "metadata": {},
   "outputs": [],
   "source": [
    "list(db.kaur.find())"
   ]
  },
  {
   "cell_type": "code",
   "execution_count": null,
   "metadata": {},
   "outputs": [],
   "source": [
    "!mongodump -d corpora -o corpora_dump"
   ]
  },
  {
   "cell_type": "code",
   "execution_count": null,
   "metadata": {},
   "outputs": [],
   "source": [
    "# mongorestore -d database_name directory_backup_where_mongodb_tobe_restored\n",
    "\n",
    "# !mongorestore -d corpora corpora_dump\n",
    "#  db.list_collection_names()\n",
    "# list(db.poet.find())"
   ]
  }
 ],
 "metadata": {
  "kernelspec": {
   "display_name": "Python 3",
   "language": "python",
   "name": "python3"
  },
  "language_info": {
   "codemirror_mode": {
    "name": "ipython",
    "version": 3
   },
   "file_extension": ".py",
   "mimetype": "text/x-python",
   "name": "python",
   "nbconvert_exporter": "python",
   "pygments_lexer": "ipython3",
   "version": "3.6.5"
  }
 },
 "nbformat": 4,
 "nbformat_minor": 2
}
